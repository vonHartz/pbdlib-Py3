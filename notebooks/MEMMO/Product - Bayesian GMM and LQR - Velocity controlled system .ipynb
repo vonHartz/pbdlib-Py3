{
 "cells": [
  {
   "cell_type": "markdown",
   "metadata": {},
   "source": [
    "$\n",
    "\\newcommand{\\Tau}{\\mathcal{T}}\n",
    "\\newcommand{\\bm}[1]{{\\boldsymbol{#1}}}\n",
    "\\newcommand{\\dt}[1]{{\\frac{d#1}{dt}}}\n",
    "%\\newcommand{\\bm}{\\mathbf{#1}}\n",
    "\\newcommand{\\trsp}{{\\scriptscriptstyle\\top}}$"
   ]
  },
  {
   "cell_type": "code",
   "execution_count": 1,
   "metadata": {
    "collapsed": false
   },
   "outputs": [
    {
     "ename": "ModuleNotFoundError",
     "evalue": "No module named 'sklearn'",
     "output_type": "error",
     "traceback": [
      "\u001b[0;31m---------------------------------------------------------------------------\u001b[0m",
      "\u001b[0;31mModuleNotFoundError\u001b[0m                       Traceback (most recent call last)",
      "\u001b[0;32m/tmp/ipykernel_1193254/3593353305.py\u001b[0m in \u001b[0;36m<module>\u001b[0;34m\u001b[0m\n\u001b[1;32m      1\u001b[0m \u001b[0;32mimport\u001b[0m \u001b[0mnumpy\u001b[0m \u001b[0;32mas\u001b[0m \u001b[0mnp\u001b[0m\u001b[0;34m\u001b[0m\u001b[0;34m\u001b[0m\u001b[0m\n\u001b[0;32m----> 2\u001b[0;31m \u001b[0;32mimport\u001b[0m \u001b[0mpbdlib\u001b[0m \u001b[0;32mas\u001b[0m \u001b[0mpbd\u001b[0m\u001b[0;34m\u001b[0m\u001b[0;34m\u001b[0m\u001b[0m\n\u001b[0m\u001b[1;32m      3\u001b[0m \u001b[0;32mimport\u001b[0m \u001b[0mmatplotlib\u001b[0m\u001b[0;34m.\u001b[0m\u001b[0mpyplot\u001b[0m \u001b[0;32mas\u001b[0m \u001b[0mplt\u001b[0m\u001b[0;34m\u001b[0m\u001b[0;34m\u001b[0m\u001b[0m\n\u001b[1;32m      4\u001b[0m \u001b[0;32mfrom\u001b[0m \u001b[0mIPython\u001b[0m\u001b[0;34m.\u001b[0m\u001b[0mcore\u001b[0m \u001b[0;32mimport\u001b[0m \u001b[0mdisplay\u001b[0m\u001b[0;34m\u001b[0m\u001b[0;34m\u001b[0m\u001b[0m\n\u001b[1;32m      5\u001b[0m \u001b[0;34m\u001b[0m\u001b[0m\n",
      "\u001b[0;32m~/miniconda3/envs/oldnp/lib/python3.7/site-packages/pbdlib/__init__.py\u001b[0m in \u001b[0;36m<module>\u001b[0;34m\u001b[0m\n\u001b[1;32m      2\u001b[0m \u001b[0;34m\u001b[0m\u001b[0m\n\u001b[1;32m      3\u001b[0m \u001b[0;32mfrom\u001b[0m \u001b[0;34m.\u001b[0m\u001b[0mgmm\u001b[0m \u001b[0;32mimport\u001b[0m \u001b[0mGMM\u001b[0m\u001b[0;34m\u001b[0m\u001b[0;34m\u001b[0m\u001b[0m\n\u001b[0;32m----> 4\u001b[0;31m \u001b[0;32mfrom\u001b[0m \u001b[0;34m.\u001b[0m\u001b[0mgmr\u001b[0m \u001b[0;32mimport\u001b[0m \u001b[0mGMR\u001b[0m\u001b[0;34m\u001b[0m\u001b[0;34m\u001b[0m\u001b[0m\n\u001b[0m\u001b[1;32m      5\u001b[0m \u001b[0;32mfrom\u001b[0m \u001b[0;34m.\u001b[0m\u001b[0mhmm\u001b[0m \u001b[0;32mimport\u001b[0m \u001b[0mHMM\u001b[0m\u001b[0;34m\u001b[0m\u001b[0;34m\u001b[0m\u001b[0m\n\u001b[1;32m      6\u001b[0m \u001b[0;32mfrom\u001b[0m \u001b[0;34m.\u001b[0m\u001b[0mhsmm\u001b[0m \u001b[0;32mimport\u001b[0m \u001b[0mHSMM\u001b[0m\u001b[0;34m\u001b[0m\u001b[0;34m\u001b[0m\u001b[0m\n",
      "\u001b[0;32m~/miniconda3/envs/oldnp/lib/python3.7/site-packages/pbdlib/gmr.py\u001b[0m in \u001b[0;36m<module>\u001b[0;34m\u001b[0m\n\u001b[1;32m      8\u001b[0m \u001b[0;32mimport\u001b[0m \u001b[0mnumpy\u001b[0m \u001b[0;32mas\u001b[0m \u001b[0mnp\u001b[0m\u001b[0;34m\u001b[0m\u001b[0;34m\u001b[0m\u001b[0m\n\u001b[1;32m      9\u001b[0m \u001b[0;32mfrom\u001b[0m \u001b[0mscipy\u001b[0m \u001b[0;32mimport\u001b[0m \u001b[0mlinalg\u001b[0m\u001b[0;34m\u001b[0m\u001b[0;34m\u001b[0m\u001b[0m\n\u001b[0;32m---> 10\u001b[0;31m \u001b[0;32mfrom\u001b[0m \u001b[0msklearn\u001b[0m \u001b[0;32mimport\u001b[0m \u001b[0mmixture\u001b[0m\u001b[0;34m\u001b[0m\u001b[0;34m\u001b[0m\u001b[0m\n\u001b[0m\u001b[1;32m     11\u001b[0m \u001b[0;34m\u001b[0m\u001b[0m\n\u001b[1;32m     12\u001b[0m \u001b[0;34m\u001b[0m\u001b[0m\n",
      "\u001b[0;31mModuleNotFoundError\u001b[0m: No module named 'sklearn'"
     ]
    }
   ],
   "source": [
    "import numpy as np\n",
    "import pbdlib as pbd\n",
    "import matplotlib.pyplot as plt\n",
    "from IPython.core import display\n",
    "\n",
    "%matplotlib inline\n",
    "%load_ext autoreload\n",
    "%autoreload 2"
   ]
  },
  {
   "cell_type": "markdown",
   "metadata": {},
   "source": [
    "# Product of Bayesian GMM and LQR\n",
    "\n",
    "This notebook demonstrates how to stabilize a policy learned by imitation by fusing it with another converging policy. The Bayesian uncertainty of the imitation policy is used in the fusion rule, in a way that, when very unsure, the converging *\"default\"* policy is used. "
   ]
  },
  {
   "cell_type": "markdown",
   "metadata": {},
   "source": [
    "## Loading synthetic demonstration trajectories\n",
    "\n",
    "The demonstrations consists of point-to-point trajectories converging at a known position. This point-to-point property makes it possible to use simple converging policies, such as an LQR. Other approaches are investigated in the paper for more generic tasks, for example implying periodic motions."
   ]
  },
  {
   "cell_type": "code",
   "execution_count": null,
   "metadata": {
    "collapsed": true
   },
   "outputs": [
    {
     "ename": "",
     "evalue": "",
     "output_type": "error",
     "traceback": [
      "\u001b[1;31mRunning cells with '/bin/python3' requires the ipykernel package.\n",
      "\u001b[1;31mRun the following command to install 'ipykernel' into the Python environment. \n",
      "\u001b[1;31mCommand: '/bin/python3 -m pip install ipykernel -U --user --force-reinstall'"
     ]
    }
   ],
   "source": [
    "demo_name = 'policy_001'\n",
    "data = np.load('./data/%s.npy' % demo_name)[()]"
   ]
  },
  {
   "cell_type": "markdown",
   "metadata": {},
   "source": [
    "#### Retrieve position and velocity "
   ]
  },
  {
   "cell_type": "code",
   "execution_count": null,
   "metadata": {
    "collapsed": false
   },
   "outputs": [
    {
     "ename": "",
     "evalue": "",
     "output_type": "error",
     "traceback": [
      "\u001b[1;31mRunning cells with '/bin/python3' requires the ipykernel package.\n",
      "\u001b[1;31mRun the following command to install 'ipykernel' into the Python environment. \n",
      "\u001b[1;31mCommand: '/bin/python3 -m pip install ipykernel -U --user --force-reinstall'"
     ]
    }
   ],
   "source": [
    "x_in = np.concatenate(data['x'], axis=0)  # position is the state \\xi\n",
    "x_out = np.concatenate(data['dx'], axis=0)  # velocity is the control command \\u\n",
    "x_joint = np.concatenate([x_in, x_out], axis=1)\n",
    "\n",
    "print(x_in.shape, x_out.shape, x_joint.shape)"
   ]
  },
  {
   "cell_type": "code",
   "execution_count": null,
   "metadata": {
    "collapsed": false
   },
   "outputs": [
    {
     "ename": "",
     "evalue": "",
     "output_type": "error",
     "traceback": [
      "\u001b[1;31mRunning cells with '/bin/python3' requires the ipykernel package.\n",
      "\u001b[1;31mRun the following command to install 'ipykernel' into the Python environment. \n",
      "\u001b[1;31mCommand: '/bin/python3 -m pip install ipykernel -U --user --force-reinstall'"
     ]
    }
   ],
   "source": [
    "plt.plot(x_in[:, 0], x_in[:, 1], 'rx')\n",
    "plt.xlabel(r'$x_1$')\n",
    "plt.ylabel(r'$x_2$')"
   ]
  },
  {
   "cell_type": "code",
   "execution_count": null,
   "metadata": {
    "collapsed": false
   },
   "outputs": [
    {
     "ename": "",
     "evalue": "",
     "output_type": "error",
     "traceback": [
      "\u001b[1;31mRunning cells with '/bin/python3' requires the ipykernel package.\n",
      "\u001b[1;31mRun the following command to install 'ipykernel' into the Python environment. \n",
      "\u001b[1;31mCommand: '/bin/python3 -m pip install ipykernel -U --user --force-reinstall'"
     ]
    }
   ],
   "source": [
    "n_in = x_in.shape[1]  # dimension of state \\xi - position\n",
    "n_out = x_out.shape[1]  # dimension of control commmand \\u - velocity\n",
    "n_joint = x_joint.shape[1]  # dimension of joint space \\xi \\u\n",
    "n_data = x_joint.shape[0]  # number of samples"
   ]
  },
  {
   "cell_type": "markdown",
   "metadata": {},
   "source": [
    "## Imitation policy - Learning Bayesian Gaussian Mixture model"
   ]
  },
  {
   "cell_type": "markdown",
   "metadata": {},
   "source": [
    "The approach is to learn the joint distribution of state and control command $p(\\bm{X}, \\bm{U})$\n",
    "and apply conditioning to retrieve a policy $p(\\bm{u}| \\bm{x})$.\n",
    "\n",
    "The joint distribution is modeled as a Gaussian mixture model, whose posterior distribution $p(\\bm{\\theta}|\\bm{X}, \\bm{U})$ is approximated using mean-field variational inference.\n",
    "\n",
    "Uncertainty about the model is propagated to the control command with the predictive posterior distribution \n",
    "\n",
    "\\begin{align}\n",
    "p(\\bm{u}|\\bm{x}, \\bm{X}, \\bm{U}) =\n",
    "\\int_{\\bm{\\theta}} p(\\bm{u}|\\bm{x}, \\bm{\\theta})p(\\bm{\\theta}|\\bm{X}, \\bm{U})d\\bm{\\theta},\n",
    "\\end{align}\n",
    "\n",
    "providing a notion of uncertainty in unknown area.\n",
    "\n",
    "Implementation is based on scikit-learn. See [here](https://scikit-learn.org/stable/modules/generated/sklearn.mixture.BayesianGaussianMixture.html#sklearn.mixture.BayesianGaussianMixture) for parameters."
   ]
  },
  {
   "cell_type": "code",
   "execution_count": null,
   "metadata": {
    "collapsed": false
   },
   "outputs": [
    {
     "ename": "",
     "evalue": "",
     "output_type": "error",
     "traceback": [
      "\u001b[1;31mRunning cells with '/bin/python3' requires the ipykernel package.\n",
      "\u001b[1;31mRun the following command to install 'ipykernel' into the Python environment. \n",
      "\u001b[1;31mCommand: '/bin/python3 -m pip install ipykernel -U --user --force-reinstall'"
     ]
    }
   ],
   "source": [
    "joint_model = pbd.VBayesianGMM({\n",
    "        'n_components':23, 'n_init':1, 'reg_covar': 0.6 ** 2,\n",
    "        'covariance_prior': 14. ** 2 * np.eye(4), 'mean_precision_prior':20. ** -2,\n",
    "        'weight_concentration_prior_type':'dirichlet_process', 'weight_concentration_prior': 1e3,\n",
    "        'degrees_of_freedom_prior': n_joint - 1. + 0.3 })"
   ]
  },
  {
   "cell_type": "code",
   "execution_count": null,
   "metadata": {
    "collapsed": false
   },
   "outputs": [
    {
     "ename": "",
     "evalue": "",
     "output_type": "error",
     "traceback": [
      "\u001b[1;31mRunning cells with '/bin/python3' requires the ipykernel package.\n",
      "\u001b[1;31mRun the following command to install 'ipykernel' into the Python environment. \n",
      "\u001b[1;31mCommand: '/bin/python3 -m pip install ipykernel -U --user --force-reinstall'"
     ]
    }
   ],
   "source": [
    "# approximate posterior distribution of GMM\n",
    "joint_model.posterior(data=x_joint)"
   ]
  },
  {
   "cell_type": "code",
   "execution_count": null,
   "metadata": {
    "collapsed": false
   },
   "outputs": [
    {
     "ename": "",
     "evalue": "",
     "output_type": "error",
     "traceback": [
      "\u001b[1;31mRunning cells with '/bin/python3' requires the ipykernel package.\n",
      "\u001b[1;31mRun the following command to install 'ipykernel' into the Python environment. \n",
      "\u001b[1;31mCommand: '/bin/python3 -m pip install ipykernel -U --user --force-reinstall'"
     ]
    }
   ],
   "source": [
    "# display distribution\n",
    "fig, ax = plt.subplots(nrows=n_joint-1, ncols=n_joint-1, figsize=(10, 10))\n",
    "\n",
    "for i in range(n_joint):\n",
    "    for j in range(n_joint):\n",
    "        if not i == j and j>i:\n",
    "            ax[i][j-1].plot(x_joint[:, i], x_joint[:, j], 'kx')\n",
    "            ax[i][j-1].autoscale(False)\n",
    "            joint_model.plot(dim=[i, j], ax=ax[i][j-1], alpha=0.2)"
   ]
  },
  {
   "cell_type": "code",
   "execution_count": null,
   "metadata": {
    "collapsed": true
   },
   "outputs": [
    {
     "ename": "",
     "evalue": "",
     "output_type": "error",
     "traceback": [
      "\u001b[1;31mRunning cells with '/bin/python3' requires the ipykernel package.\n",
      "\u001b[1;31mRun the following command to install 'ipykernel' into the Python environment. \n",
      "\u001b[1;31mCommand: '/bin/python3 -m pip install ipykernel -U --user --force-reinstall'"
     ]
    }
   ],
   "source": [
    "# compute conditional predictive distribution (1)\n",
    "# p(u|x, X, U) which is a mixture of multivariate t distribution is approximated \n",
    "# with a Gaussian with moment matching\n",
    "\n",
    "def f(x, use_gmr=False):\n",
    "    return joint_model.condition(x, slice(0, n_in), slice(n_in, n_joint))[0]"
   ]
  },
  {
   "cell_type": "code",
   "execution_count": null,
   "metadata": {
    "collapsed": true
   },
   "outputs": [
    {
     "ename": "",
     "evalue": "",
     "output_type": "error",
     "traceback": [
      "\u001b[1;31mRunning cells with '/bin/python3' requires the ipykernel package.\n",
      "\u001b[1;31mRun the following command to install 'ipykernel' into the Python environment. \n",
      "\u001b[1;31mCommand: '/bin/python3 -m pip install ipykernel -U --user --force-reinstall'"
     ]
    }
   ],
   "source": [
    "# get log determinant of p(u|x, X, U) approximated with a Gaussian\n",
    "def uncertainty(x):\n",
    "    return -np.log(joint_model.get_pred_post_uncertainty(x, slice(0, n_in), slice(n_in, n_joint)))"
   ]
  },
  {
   "cell_type": "markdown",
   "metadata": {},
   "source": [
    "### Bayesian DP-GMM policy \n",
    "Display policy and uncertainty as a heatmap"
   ]
  },
  {
   "cell_type": "code",
   "execution_count": null,
   "metadata": {
    "collapsed": false
   },
   "outputs": [
    {
     "ename": "",
     "evalue": "",
     "output_type": "error",
     "traceback": [
      "\u001b[1;31mRunning cells with '/bin/python3' requires the ipykernel package.\n",
      "\u001b[1;31mRun the following command to install 'ipykernel' into the Python environment. \n",
      "\u001b[1;31mCommand: '/bin/python3 -m pip install ipykernel -U --user --force-reinstall'"
     ]
    }
   ],
   "source": [
    "plt.figure(figsize=(8, 8))\n",
    "\n",
    "pbd.plot_dynamic_system(f, xlim=[-100, 100], ylim=[-100, 100], equal=True, scale=0.05)\n",
    "pbd.plot_function_map(uncertainty, xlim=[-100, 100], ylim=[-100, 100], nb_sub=80, opp=False)\n",
    "\n",
    "# joint_model.plot(dim=[0, 1], alpha=0.2)\n",
    "for d in data['x']:\n",
    "    plt.plot(d[:, 0], d[:, 1], 'k', lw=2)"
   ]
  },
  {
   "cell_type": "markdown",
   "metadata": {},
   "source": [
    "## LQR - stable controller \n",
    "We create another policy/controller, whose goal is to converge at the same final state distribution as the demonstrated trajectories and also stay in the same distribution at anytime."
   ]
  },
  {
   "cell_type": "code",
   "execution_count": null,
   "metadata": {
    "collapsed": true
   },
   "outputs": [
    {
     "ename": "",
     "evalue": "",
     "output_type": "error",
     "traceback": [
      "\u001b[1;31mRunning cells with '/bin/python3' requires the ipykernel package.\n",
      "\u001b[1;31mRun the following command to install 'ipykernel' into the Python environment. \n",
      "\u001b[1;31mCommand: '/bin/python3 -m pip install ipykernel -U --user --force-reinstall'"
     ]
    }
   ],
   "source": [
    "dt = 0.05\n",
    "\n",
    "# our system is velocity controlled, we have a simple integrator\n",
    "A = np.eye(2)\n",
    "B = dt * np.eye(2) \n",
    "T = max([d.shape[0] for d in data['x']]) + 50\n",
    "\n",
    "lqr = pbd.LQR(A, B, horizon=T)"
   ]
  },
  {
   "cell_type": "code",
   "execution_count": null,
   "metadata": {
    "collapsed": false
   },
   "outputs": [
    {
     "ename": "",
     "evalue": "",
     "output_type": "error",
     "traceback": [
      "\u001b[1;31mRunning cells with '/bin/python3' requires the ipykernel package.\n",
      "\u001b[1;31mRun the following command to install 'ipykernel' into the Python environment. \n",
      "\u001b[1;31mCommand: '/bin/python3 -m pip install ipykernel -U --user --force-reinstall'"
     ]
    }
   ],
   "source": [
    "# we create nb_states=2 MVNs whose negative log prob (quadratic) \n",
    "# will be used as cost for the LQR \n",
    "cost_xi = pbd.GMM(nb_states=2, nb_dim=2) \n",
    "\n",
    "diag = lambda x: np.eye(x.shape[-1]) * x\n",
    "\n",
    "# get mean state value\n",
    "cost_xi.mu = np.array([\n",
    "    # data distribution - where it needs to stay at any time\n",
    "    np.mean(x_joint[:, :2], axis=0), \n",
    "    # end state distribution - where it needs to converge\n",
    "    np.mean([d[-1] for d in data['x']], axis=0)\n",
    "])\n",
    "\n",
    "cost_xi.sigma = [\n",
    "    # data distribution - where it needs to stay at any time\n",
    "    # allow 8 more variability - sqrt(8) in std\n",
    "    8 * diag(np.cov(x_joint[:, :2], rowvar=False)), \n",
    "    # end state distribution - where it needs to converge\n",
    "    # allow 2 times more variability \n",
    "    4 * diag(np.cov([d[-1] for d in data['x']],rowvar=False)) \n",
    "]\n",
    "\n",
    "# create MVN for the distribution of control command\n",
    "cost_u = pbd.MVN(nb_dim=2)\n",
    "\n",
    "cost_u.mu = np.zeros(2)  # zero centered\n",
    "cost_u.sigma = 8. * diag(np.cov(x_joint[:, 2:], rowvar=False))  # more velocity is allowed than in the demo"
   ]
  },
  {
   "cell_type": "code",
   "execution_count": null,
   "metadata": {
    "collapsed": false
   },
   "outputs": [
    {
     "ename": "",
     "evalue": "",
     "output_type": "error",
     "traceback": [
      "\u001b[1;31mRunning cells with '/bin/python3' requires the ipykernel package.\n",
      "\u001b[1;31mRun the following command to install 'ipykernel' into the Python environment. \n",
      "\u001b[1;31mCommand: '/bin/python3 -m pip install ipykernel -U --user --force-reinstall'"
     ]
    }
   ],
   "source": [
    "# track data distribution for T-50 first time steps and final state distribution after\n",
    "lqr.gmm_xi = cost_xi, [0 for i in range(T - 50)] + [1 for i in range(50)]\n",
    "# regularize with zero centered velocity distribution \n",
    "lqr.gmm_u = cost_u"
   ]
  },
  {
   "cell_type": "code",
   "execution_count": null,
   "metadata": {
    "collapsed": true
   },
   "outputs": [
    {
     "ename": "",
     "evalue": "",
     "output_type": "error",
     "traceback": [
      "\u001b[1;31mRunning cells with '/bin/python3' requires the ipykernel package.\n",
      "\u001b[1;31mRun the following command to install 'ipykernel' into the Python environment. \n",
      "\u001b[1;31mCommand: '/bin/python3 -m pip install ipykernel -U --user --force-reinstall'"
     ]
    }
   ],
   "source": [
    "# solve ricatti\n",
    "lqr.ricatti()"
   ]
  },
  {
   "cell_type": "code",
   "execution_count": null,
   "metadata": {
    "collapsed": false
   },
   "outputs": [
    {
     "ename": "",
     "evalue": "",
     "output_type": "error",
     "traceback": [
      "\u001b[1;31mRunning cells with '/bin/python3' requires the ipykernel package.\n",
      "\u001b[1;31mRun the following command to install 'ipykernel' into the Python environment. \n",
      "\u001b[1;31mCommand: '/bin/python3 -m pip install ipykernel -U --user --force-reinstall'"
     ]
    }
   ],
   "source": [
    "# get time-dependent stable policy and \n",
    "# its variabilty (curvature of the solution, follows maximum entropy principle)\n",
    "\n",
    "def stable_policy(x, t=0):\n",
    "    return np.einsum('ij,ai->aj', lqr.K[t], lqr.ds[t]-x), lqr.Q[t] * np.ones_like(x)[:, :, None]"
   ]
  },
  {
   "cell_type": "markdown",
   "metadata": {},
   "source": [
    "Solution of LQR gives a distribution of policy on the form of \n",
    "\\begin{align}\n",
    "p(\\bm{u}_t|\\bm{x}_t) = \\mathcal{N}(-\\bm{K}_t \\bm{x}_t + \\bm{c}_t, \\bm{Q}_t^{-1}).\n",
    "\\end{align}"
   ]
  },
  {
   "cell_type": "code",
   "execution_count": null,
   "metadata": {
    "collapsed": false
   },
   "outputs": [
    {
     "ename": "",
     "evalue": "",
     "output_type": "error",
     "traceback": [
      "\u001b[1;31mRunning cells with '/bin/python3' requires the ipykernel package.\n",
      "\u001b[1;31mRun the following command to install 'ipykernel' into the Python environment. \n",
      "\u001b[1;31mCommand: '/bin/python3 -m pip install ipykernel -U --user --force-reinstall'"
     ]
    }
   ],
   "source": [
    "# display how the policy change accross time \n",
    "# becomes more and more convergent to ensure convergence at the desired final distribution \n",
    "n = 5\n",
    "fig, ax = plt.subplots(ncols=n, figsize=(4* n, 4))\n",
    "\n",
    "for i, t in enumerate(np.linspace(0, T-2, n)):\n",
    "    pbd.plot_dynamic_system(\n",
    "        lambda x: stable_policy(x, t=int(t))[0],\n",
    "        xlim=[-100, 100], ylim=[-100, 100], equal=True, scale=0.002, ax=ax[i])\n",
    "    \n",
    "    ax[i].set_xlabel('t = %d' % t)\n",
    "\n",
    "    for d in data['x']:\n",
    "        ax[i].plot(d[:, 0], d[:, 1], 'k', lw=2)"
   ]
  },
  {
   "cell_type": "markdown",
   "metadata": {},
   "source": [
    "## Product of policies \n",
    "We have now two distributions of control command as MVN distribution  $\\mathcal{N}_i(\\bm{x}|\\, \\bm{\\mu}_i, \\bm{\\Lambda}^{-1}_{i})$ for $i \\in \\{1, 2\\}$  that we fuse using Product of Gaussian.\n",
    "\n",
    "\\begin{align}\n",
    "\\bar{\\bm{\\Lambda}} = \\sum_{i=1}^{M} \\bm{\\Lambda}_i,\\quad \\bar{\\bm{\\mu}} = \\bar{\\bm{\\Lambda}}^{-1}\\sum_{i=1}^{M} \\bm{\\Lambda}_i \\bm{\\mu}_i,\n",
    "\\end{align}\n",
    "\n",
    "The resulting control command is a weighted sum of the control command, where the weights are given by the precision matrix (inverse of covariance)."
   ]
  },
  {
   "cell_type": "code",
   "execution_count": null,
   "metadata": {
    "collapsed": true
   },
   "outputs": [
    {
     "ename": "",
     "evalue": "",
     "output_type": "error",
     "traceback": [
      "\u001b[1;31mRunning cells with '/bin/python3' requires the ipykernel package.\n",
      "\u001b[1;31mRun the following command to install 'ipykernel' into the Python environment. \n",
      "\u001b[1;31mCommand: '/bin/python3 -m pip install ipykernel -U --user --force-reinstall'"
     ]
    }
   ],
   "source": [
    "def product_policy(x, t=0):\n",
    "    mu_1, sigma_1 = joint_model.condition(x, slice(0, n_in), slice(n_in, n_joint))\n",
    "    mu_2, sigma_2 = stable_policy(x, t)\n",
    "    \n",
    "    lmbda_1, lmbda_2 = np.linalg.inv(sigma_1), np.linalg.inv(sigma_2) \n",
    "    lmbda_p = lmbda_1 + lmbda_2\n",
    "    \n",
    "    mu_p = np.einsum('aij,aj->ai',np.linalg.inv(lmbda_p),(np.einsum('aij,aj->ai', lmbda_1, mu_1) +\n",
    "     np.einsum('aij,aj->ai', lmbda_2, mu_2)))\n",
    "    return mu_p"
   ]
  },
  {
   "cell_type": "code",
   "execution_count": null,
   "metadata": {
    "collapsed": false
   },
   "outputs": [
    {
     "ename": "",
     "evalue": "",
     "output_type": "error",
     "traceback": [
      "\u001b[1;31mRunning cells with '/bin/python3' requires the ipykernel package.\n",
      "\u001b[1;31mRun the following command to install 'ipykernel' into the Python environment. \n",
      "\u001b[1;31mCommand: '/bin/python3 -m pip install ipykernel -U --user --force-reinstall'"
     ]
    }
   ],
   "source": [
    "# compute rollout\n",
    "xis = [np.copy(data['x'][2][0])]\n",
    "\n",
    "for i in range(0, T-6):\n",
    "    u = product_policy(xis[-1][None], i)[0]\n",
    "    xis += [A.dot(xis[-1]) + B.dot(u)]\n",
    "    \n",
    "xis = np.array(xis)"
   ]
  },
  {
   "cell_type": "code",
   "execution_count": null,
   "metadata": {
    "collapsed": false
   },
   "outputs": [
    {
     "ename": "",
     "evalue": "",
     "output_type": "error",
     "traceback": [
      "\u001b[1;31mRunning cells with '/bin/python3' requires the ipykernel package.\n",
      "\u001b[1;31mRun the following command to install 'ipykernel' into the Python environment. \n",
      "\u001b[1;31mCommand: '/bin/python3 -m pip install ipykernel -U --user --force-reinstall'"
     ]
    }
   ],
   "source": [
    "fig, ax= plt.subplots(ncols=2, figsize=(16, 8))\n",
    "\n",
    "# overlay with imitation policy\n",
    "for i in range(2):\n",
    "    pbd.plot_dynamic_system(\n",
    "        f, xlim=[-100, 100], ylim=[-100, 100], equal=True, scale=0.02, ax=ax[i], color='orangered')\n",
    "\n",
    "pbd.plot_dynamic_system(\n",
    "    lambda x: product_policy(x, t=0),\n",
    "    xlim=[-100, 100], ylim=[-100, 100], equal=True, scale=0.02, ax=ax[0],\n",
    "    color='steelblue'\n",
    ")\n",
    "\n",
    "pbd.plot_dynamic_system(\n",
    "    lambda x: product_policy(x, t=-50),\n",
    "    xlim=[-100, 100], ylim=[-100, 100], equal=True, scale=0.02, ax=ax[1],\n",
    "    color='steelblue'\n",
    ")\n",
    "\n",
    "\n",
    "for i in range(2):\n",
    "    pbd.plot_function_map(\n",
    "        uncertainty, xlim=[-100, 100], ylim=[-100, 100], nb_sub=40, opp=False, ax=ax[i])\n",
    "\n",
    "    for d in data['x']:\n",
    "        ax[i].plot(d[:, 0], d[:, 1], 'k', lw=2)\n",
    "\n",
    "        ax[i].plot(xis[:, 0], xis[:, 1], lw=4, color='orangered')"
   ]
  },
  {
   "cell_type": "markdown",
   "metadata": {},
   "source": [
    "### Recording video "
   ]
  },
  {
   "cell_type": "code",
   "execution_count": null,
   "metadata": {
    "collapsed": true
   },
   "outputs": [
    {
     "ename": "",
     "evalue": "",
     "output_type": "error",
     "traceback": [
      "\u001b[1;31mRunning cells with '/bin/python3' requires the ipykernel package.\n",
      "\u001b[1;31mRun the following command to install 'ipykernel' into the Python environment. \n",
      "\u001b[1;31mCommand: '/bin/python3 -m pip install ipykernel -U --user --force-reinstall'"
     ]
    }
   ],
   "source": [
    "import imageio\n",
    "import os"
   ]
  },
  {
   "cell_type": "code",
   "execution_count": null,
   "metadata": {
    "collapsed": true
   },
   "outputs": [
    {
     "ename": "",
     "evalue": "",
     "output_type": "error",
     "traceback": [
      "\u001b[1;31mRunning cells with '/bin/python3' requires the ipykernel package.\n",
      "\u001b[1;31mRun the following command to install 'ipykernel' into the Python environment. \n",
      "\u001b[1;31mCommand: '/bin/python3 -m pip install ipykernel -U --user --force-reinstall'"
     ]
    }
   ],
   "source": [
    "images = []\n",
    "name = demo_name + '_dp_gmm_lqr'\n",
    "# for t in range(0, 6, 6):\n",
    "for t in range(0, T-6, 3):\n",
    "    plt.figure(figsize=(8, 8))\n",
    "    \n",
    "    pbd.plot_dynamic_system(\n",
    "        lambda x: product_policy(x, t=t),\n",
    "        xlim=[-100, 100], ylim=[-100, 100], equal=True, scale=0.03,\n",
    "        color='steelblue'\n",
    "    )\n",
    "    \n",
    "    pbd.plot_function_map(\n",
    "        uncertainty, xlim=[-100, 100], ylim=[-100, 100], nb_sub=40, opp=False)\n",
    "    \n",
    "    for d in data['x']:\n",
    "        plt.plot(d[:, 0], d[:, 1], 'k--', lw=2, alpha=0.6)\n",
    "        \n",
    "    plt.plot(xis[:t, 0], xis[:t, 1], color='orangered', lw=3)\n",
    "    plt.plot(xis[t, 0], xis[t, 1], 'ws', mec='orangered', ms=10, mew=2)\n",
    "    \n",
    "    plt.savefig('img_%d.png' % t)\n",
    "    \n",
    "    images.append(imageio.imread('img_%d.png' % t))\n",
    "    os.remove('img_%d.png' % t)\n",
    "    plt.close()\n",
    "    \n",
    "imageio.mimsave('%s.mp4' % name, images)"
   ]
  },
  {
   "cell_type": "code",
   "execution_count": null,
   "metadata": {
    "collapsed": true
   },
   "outputs": [
    {
     "ename": "",
     "evalue": "",
     "output_type": "error",
     "traceback": [
      "\u001b[1;31mRunning cells with '/bin/python3' requires the ipykernel package.\n",
      "\u001b[1;31mRun the following command to install 'ipykernel' into the Python environment. \n",
      "\u001b[1;31mCommand: '/bin/python3 -m pip install ipykernel -U --user --force-reinstall'"
     ]
    }
   ],
   "source": []
  }
 ],
 "metadata": {
  "anaconda-cloud": {},
  "hide_input": false,
  "kernelspec": {
   "display_name": "oldnp",
   "language": "python",
   "name": "python3"
  },
  "language_info": {
   "codemirror_mode": {
    "name": "ipython",
    "version": 3
   },
   "file_extension": ".py",
   "mimetype": "text/x-python",
   "name": "python",
   "nbconvert_exporter": "python",
   "pygments_lexer": "ipython3",
   "version": "3.7.16"
  },
  "latex_envs": {
   "bibliofile": "biblio.bib",
   "cite_by": "apalike",
   "current_citInitial": 1,
   "eqLabelWithNumbers": true,
   "eqNumInitial": 0
  },
  "vscode": {
   "interpreter": {
    "hash": "cc6b70d1a7c5b80eca82fc95c669282b9a8979540067ce02e831b2afbff15ab3"
   }
  }
 },
 "nbformat": 4,
 "nbformat_minor": 2
}
